{
 "cells": [
  {
   "cell_type": "markdown",
   "metadata": {},
   "source": [
    "# Lab Introduction\n",
    "In this lab we learn some terminology, gain some background of some basic concepts and learn how to use the Scikit-learn library to train different models to perform predictions.\n",
    "\n",
    "> To keep things simple we will keep the main focus on categorization using supervised learning\n",
    "\n",
    "## <a id=\"toc\"></a>Table of Contents\n",
    " * [Iris Data set](#iris_dataset)\n",
    " * [Observations and Features](#observation_features)\n",
    " * [Modeling](#modeling)\n",
    " * [Train/Test](#train_test)\n",
    " * [Model and Parameter Choices](#choices)\n",
    " * [Validation set - Hold-out set](#validation)\n",
    " * [Hyperparameter Selection](#selection)\n",
    "\n",
    "\n",
    "# <a id=\"iris_dataset\"></a>Iris Data set\n",
    "For this lab we will use the famous iris data set. This data set is probably the best known database to be found in pattern recognition literature. The data set contains 3 classes with 50 instances each, and each class refers to a type of iris plant. This data set is generally included in most of the libraries as a sample. However you could download it from https://archive.ics.uci.edu/ml/datasets/iris\n",
    "\n",
    "> __Tip:__ This link, like many others on the internet, includes a number of other samples that you can use for learning\n",
    "\n",
    "Our first step is to import the data set, as included within the scikit-learn library"
   ]
  },
  {
   "cell_type": "code",
   "execution_count": 1,
   "metadata": {
    "collapsed": true
   },
   "outputs": [],
   "source": [
    "from sklearn.datasets import load_iris"
   ]
  },
  {
   "cell_type": "markdown",
   "metadata": {},
   "source": [
    "## Load the Iris Data Set\n",
    "In this step we will load and store the iris data set into a variable."
   ]
  },
  {
   "cell_type": "code",
   "execution_count": 2,
   "metadata": {
    "collapsed": true
   },
   "outputs": [],
   "source": [
    "iris = load_iris()"
   ]
  },
  {
   "cell_type": "markdown",
   "metadata": {},
   "source": [
    "## Examine `iris` data type\n",
    "Now that we have loaded the iris data set in variable called `iris`, let's see what type it is"
   ]
  },
  {
   "cell_type": "code",
   "execution_count": 3,
   "metadata": {},
   "outputs": [
    {
     "data": {
      "text/plain": [
       "sklearn.utils.Bunch"
      ]
     },
     "execution_count": 3,
     "metadata": {},
     "output_type": "execute_result"
    }
   ],
   "source": [
    "type(iris)"
   ]
  },
  {
   "cell_type": "markdown",
   "metadata": {},
   "source": [
    "### Variable details\n",
    "We can see that it is of type `sklearn.utils.Bunch`\n",
    "\n",
    "Our expectation would have been to see a list or maybe a list of lists. So let's examine the type and see what this type offers.\n",
    "\n",
    "__Q:__ _But how do we know what attributes or functions are offered by `iris`?_\n",
    "\n",
    "The simple answer is to use the online scikit-learn documentation (Bunch objects are just a way to package some numpy arrays) [more info](http://scikit-learn.org/stable/faq.html#how-can-i-create-a-bunch-object), but there is a quicker way to get an initial idea.\n",
    "\n",
    "> __Tip:__ use the completion feature in Jupyter notebooks by pressing the `tab` key combination\n",
    "\n",
    "Let's examine the attributes and function offered by iris variable using the completion feature. This helps us learn that we have `iris.feature_names`, `iris.data`, `iris.target_names` and `iris.target`"
   ]
  },
  {
   "cell_type": "code",
   "execution_count": 4,
   "metadata": {},
   "outputs": [
    {
     "data": {
      "text/plain": [
       "['sepal length (cm)',\n",
       " 'sepal width (cm)',\n",
       " 'petal length (cm)',\n",
       " 'petal width (cm)']"
      ]
     },
     "execution_count": 4,
     "metadata": {},
     "output_type": "execute_result"
    }
   ],
   "source": [
    "iris.feature_names"
   ]
  },
  {
   "cell_type": "code",
   "execution_count": 5,
   "metadata": {},
   "outputs": [
    {
     "data": {
      "text/plain": [
       "array([[ 5.1,  3.5,  1.4,  0.2],\n",
       "       [ 4.9,  3. ,  1.4,  0.2],\n",
       "       [ 4.7,  3.2,  1.3,  0.2],\n",
       "       [ 4.6,  3.1,  1.5,  0.2],\n",
       "       [ 5. ,  3.6,  1.4,  0.2],\n",
       "       [ 5.4,  3.9,  1.7,  0.4],\n",
       "       [ 4.6,  3.4,  1.4,  0.3],\n",
       "       [ 5. ,  3.4,  1.5,  0.2],\n",
       "       [ 4.4,  2.9,  1.4,  0.2],\n",
       "       [ 4.9,  3.1,  1.5,  0.1],\n",
       "       [ 5.4,  3.7,  1.5,  0.2],\n",
       "       [ 4.8,  3.4,  1.6,  0.2],\n",
       "       [ 4.8,  3. ,  1.4,  0.1],\n",
       "       [ 4.3,  3. ,  1.1,  0.1],\n",
       "       [ 5.8,  4. ,  1.2,  0.2],\n",
       "       [ 5.7,  4.4,  1.5,  0.4],\n",
       "       [ 5.4,  3.9,  1.3,  0.4],\n",
       "       [ 5.1,  3.5,  1.4,  0.3],\n",
       "       [ 5.7,  3.8,  1.7,  0.3],\n",
       "       [ 5.1,  3.8,  1.5,  0.3],\n",
       "       [ 5.4,  3.4,  1.7,  0.2],\n",
       "       [ 5.1,  3.7,  1.5,  0.4],\n",
       "       [ 4.6,  3.6,  1. ,  0.2],\n",
       "       [ 5.1,  3.3,  1.7,  0.5],\n",
       "       [ 4.8,  3.4,  1.9,  0.2],\n",
       "       [ 5. ,  3. ,  1.6,  0.2],\n",
       "       [ 5. ,  3.4,  1.6,  0.4],\n",
       "       [ 5.2,  3.5,  1.5,  0.2],\n",
       "       [ 5.2,  3.4,  1.4,  0.2],\n",
       "       [ 4.7,  3.2,  1.6,  0.2],\n",
       "       [ 4.8,  3.1,  1.6,  0.2],\n",
       "       [ 5.4,  3.4,  1.5,  0.4],\n",
       "       [ 5.2,  4.1,  1.5,  0.1],\n",
       "       [ 5.5,  4.2,  1.4,  0.2],\n",
       "       [ 4.9,  3.1,  1.5,  0.1],\n",
       "       [ 5. ,  3.2,  1.2,  0.2],\n",
       "       [ 5.5,  3.5,  1.3,  0.2],\n",
       "       [ 4.9,  3.1,  1.5,  0.1],\n",
       "       [ 4.4,  3. ,  1.3,  0.2],\n",
       "       [ 5.1,  3.4,  1.5,  0.2],\n",
       "       [ 5. ,  3.5,  1.3,  0.3],\n",
       "       [ 4.5,  2.3,  1.3,  0.3],\n",
       "       [ 4.4,  3.2,  1.3,  0.2],\n",
       "       [ 5. ,  3.5,  1.6,  0.6],\n",
       "       [ 5.1,  3.8,  1.9,  0.4],\n",
       "       [ 4.8,  3. ,  1.4,  0.3],\n",
       "       [ 5.1,  3.8,  1.6,  0.2],\n",
       "       [ 4.6,  3.2,  1.4,  0.2],\n",
       "       [ 5.3,  3.7,  1.5,  0.2],\n",
       "       [ 5. ,  3.3,  1.4,  0.2],\n",
       "       [ 7. ,  3.2,  4.7,  1.4],\n",
       "       [ 6.4,  3.2,  4.5,  1.5],\n",
       "       [ 6.9,  3.1,  4.9,  1.5],\n",
       "       [ 5.5,  2.3,  4. ,  1.3],\n",
       "       [ 6.5,  2.8,  4.6,  1.5],\n",
       "       [ 5.7,  2.8,  4.5,  1.3],\n",
       "       [ 6.3,  3.3,  4.7,  1.6],\n",
       "       [ 4.9,  2.4,  3.3,  1. ],\n",
       "       [ 6.6,  2.9,  4.6,  1.3],\n",
       "       [ 5.2,  2.7,  3.9,  1.4],\n",
       "       [ 5. ,  2. ,  3.5,  1. ],\n",
       "       [ 5.9,  3. ,  4.2,  1.5],\n",
       "       [ 6. ,  2.2,  4. ,  1. ],\n",
       "       [ 6.1,  2.9,  4.7,  1.4],\n",
       "       [ 5.6,  2.9,  3.6,  1.3],\n",
       "       [ 6.7,  3.1,  4.4,  1.4],\n",
       "       [ 5.6,  3. ,  4.5,  1.5],\n",
       "       [ 5.8,  2.7,  4.1,  1. ],\n",
       "       [ 6.2,  2.2,  4.5,  1.5],\n",
       "       [ 5.6,  2.5,  3.9,  1.1],\n",
       "       [ 5.9,  3.2,  4.8,  1.8],\n",
       "       [ 6.1,  2.8,  4. ,  1.3],\n",
       "       [ 6.3,  2.5,  4.9,  1.5],\n",
       "       [ 6.1,  2.8,  4.7,  1.2],\n",
       "       [ 6.4,  2.9,  4.3,  1.3],\n",
       "       [ 6.6,  3. ,  4.4,  1.4],\n",
       "       [ 6.8,  2.8,  4.8,  1.4],\n",
       "       [ 6.7,  3. ,  5. ,  1.7],\n",
       "       [ 6. ,  2.9,  4.5,  1.5],\n",
       "       [ 5.7,  2.6,  3.5,  1. ],\n",
       "       [ 5.5,  2.4,  3.8,  1.1],\n",
       "       [ 5.5,  2.4,  3.7,  1. ],\n",
       "       [ 5.8,  2.7,  3.9,  1.2],\n",
       "       [ 6. ,  2.7,  5.1,  1.6],\n",
       "       [ 5.4,  3. ,  4.5,  1.5],\n",
       "       [ 6. ,  3.4,  4.5,  1.6],\n",
       "       [ 6.7,  3.1,  4.7,  1.5],\n",
       "       [ 6.3,  2.3,  4.4,  1.3],\n",
       "       [ 5.6,  3. ,  4.1,  1.3],\n",
       "       [ 5.5,  2.5,  4. ,  1.3],\n",
       "       [ 5.5,  2.6,  4.4,  1.2],\n",
       "       [ 6.1,  3. ,  4.6,  1.4],\n",
       "       [ 5.8,  2.6,  4. ,  1.2],\n",
       "       [ 5. ,  2.3,  3.3,  1. ],\n",
       "       [ 5.6,  2.7,  4.2,  1.3],\n",
       "       [ 5.7,  3. ,  4.2,  1.2],\n",
       "       [ 5.7,  2.9,  4.2,  1.3],\n",
       "       [ 6.2,  2.9,  4.3,  1.3],\n",
       "       [ 5.1,  2.5,  3. ,  1.1],\n",
       "       [ 5.7,  2.8,  4.1,  1.3],\n",
       "       [ 6.3,  3.3,  6. ,  2.5],\n",
       "       [ 5.8,  2.7,  5.1,  1.9],\n",
       "       [ 7.1,  3. ,  5.9,  2.1],\n",
       "       [ 6.3,  2.9,  5.6,  1.8],\n",
       "       [ 6.5,  3. ,  5.8,  2.2],\n",
       "       [ 7.6,  3. ,  6.6,  2.1],\n",
       "       [ 4.9,  2.5,  4.5,  1.7],\n",
       "       [ 7.3,  2.9,  6.3,  1.8],\n",
       "       [ 6.7,  2.5,  5.8,  1.8],\n",
       "       [ 7.2,  3.6,  6.1,  2.5],\n",
       "       [ 6.5,  3.2,  5.1,  2. ],\n",
       "       [ 6.4,  2.7,  5.3,  1.9],\n",
       "       [ 6.8,  3. ,  5.5,  2.1],\n",
       "       [ 5.7,  2.5,  5. ,  2. ],\n",
       "       [ 5.8,  2.8,  5.1,  2.4],\n",
       "       [ 6.4,  3.2,  5.3,  2.3],\n",
       "       [ 6.5,  3. ,  5.5,  1.8],\n",
       "       [ 7.7,  3.8,  6.7,  2.2],\n",
       "       [ 7.7,  2.6,  6.9,  2.3],\n",
       "       [ 6. ,  2.2,  5. ,  1.5],\n",
       "       [ 6.9,  3.2,  5.7,  2.3],\n",
       "       [ 5.6,  2.8,  4.9,  2. ],\n",
       "       [ 7.7,  2.8,  6.7,  2. ],\n",
       "       [ 6.3,  2.7,  4.9,  1.8],\n",
       "       [ 6.7,  3.3,  5.7,  2.1],\n",
       "       [ 7.2,  3.2,  6. ,  1.8],\n",
       "       [ 6.2,  2.8,  4.8,  1.8],\n",
       "       [ 6.1,  3. ,  4.9,  1.8],\n",
       "       [ 6.4,  2.8,  5.6,  2.1],\n",
       "       [ 7.2,  3. ,  5.8,  1.6],\n",
       "       [ 7.4,  2.8,  6.1,  1.9],\n",
       "       [ 7.9,  3.8,  6.4,  2. ],\n",
       "       [ 6.4,  2.8,  5.6,  2.2],\n",
       "       [ 6.3,  2.8,  5.1,  1.5],\n",
       "       [ 6.1,  2.6,  5.6,  1.4],\n",
       "       [ 7.7,  3. ,  6.1,  2.3],\n",
       "       [ 6.3,  3.4,  5.6,  2.4],\n",
       "       [ 6.4,  3.1,  5.5,  1.8],\n",
       "       [ 6. ,  3. ,  4.8,  1.8],\n",
       "       [ 6.9,  3.1,  5.4,  2.1],\n",
       "       [ 6.7,  3.1,  5.6,  2.4],\n",
       "       [ 6.9,  3.1,  5.1,  2.3],\n",
       "       [ 5.8,  2.7,  5.1,  1.9],\n",
       "       [ 6.8,  3.2,  5.9,  2.3],\n",
       "       [ 6.7,  3.3,  5.7,  2.5],\n",
       "       [ 6.7,  3. ,  5.2,  2.3],\n",
       "       [ 6.3,  2.5,  5. ,  1.9],\n",
       "       [ 6.5,  3. ,  5.2,  2. ],\n",
       "       [ 6.2,  3.4,  5.4,  2.3],\n",
       "       [ 5.9,  3. ,  5.1,  1.8]])"
      ]
     },
     "execution_count": 5,
     "metadata": {},
     "output_type": "execute_result"
    }
   ],
   "source": [
    "iris.data"
   ]
  },
  {
   "cell_type": "code",
   "execution_count": 6,
   "metadata": {},
   "outputs": [
    {
     "data": {
      "text/plain": [
       "array(['setosa', 'versicolor', 'virginica'],\n",
       "      dtype='|S10')"
      ]
     },
     "execution_count": 6,
     "metadata": {},
     "output_type": "execute_result"
    }
   ],
   "source": [
    "iris.target_names"
   ]
  },
  {
   "cell_type": "code",
   "execution_count": 7,
   "metadata": {},
   "outputs": [
    {
     "data": {
      "text/plain": [
       "array([0, 0, 0, 0, 0, 0, 0, 0, 0, 0, 0, 0, 0, 0, 0, 0, 0, 0, 0, 0, 0, 0, 0,\n",
       "       0, 0, 0, 0, 0, 0, 0, 0, 0, 0, 0, 0, 0, 0, 0, 0, 0, 0, 0, 0, 0, 0, 0,\n",
       "       0, 0, 0, 0, 1, 1, 1, 1, 1, 1, 1, 1, 1, 1, 1, 1, 1, 1, 1, 1, 1, 1, 1,\n",
       "       1, 1, 1, 1, 1, 1, 1, 1, 1, 1, 1, 1, 1, 1, 1, 1, 1, 1, 1, 1, 1, 1, 1,\n",
       "       1, 1, 1, 1, 1, 1, 1, 1, 2, 2, 2, 2, 2, 2, 2, 2, 2, 2, 2, 2, 2, 2, 2,\n",
       "       2, 2, 2, 2, 2, 2, 2, 2, 2, 2, 2, 2, 2, 2, 2, 2, 2, 2, 2, 2, 2, 2, 2,\n",
       "       2, 2, 2, 2, 2, 2, 2, 2, 2, 2, 2, 2])"
      ]
     },
     "execution_count": 7,
     "metadata": {},
     "output_type": "execute_result"
    }
   ],
   "source": [
    "iris.target"
   ]
  },
  {
   "cell_type": "markdown",
   "metadata": {},
   "source": [
    "### Attributes of `iris`\n",
    "Let's further look into the details of the values we find in the `iris`\n",
    "\n",
    "Let's check the lengths of the attributes"
   ]
  },
  {
   "cell_type": "code",
   "execution_count": 8,
   "metadata": {},
   "outputs": [
    {
     "data": {
      "text/plain": [
       "4"
      ]
     },
     "execution_count": 8,
     "metadata": {},
     "output_type": "execute_result"
    }
   ],
   "source": [
    "len(iris.feature_names)"
   ]
  },
  {
   "cell_type": "code",
   "execution_count": 9,
   "metadata": {},
   "outputs": [
    {
     "data": {
      "text/plain": [
       "150"
      ]
     },
     "execution_count": 9,
     "metadata": {},
     "output_type": "execute_result"
    }
   ],
   "source": [
    "len(iris.data)"
   ]
  },
  {
   "cell_type": "code",
   "execution_count": 10,
   "metadata": {},
   "outputs": [
    {
     "data": {
      "text/plain": [
       "3"
      ]
     },
     "execution_count": 10,
     "metadata": {},
     "output_type": "execute_result"
    }
   ],
   "source": [
    "len(iris.target_names)"
   ]
  },
  {
   "cell_type": "code",
   "execution_count": 11,
   "metadata": {},
   "outputs": [
    {
     "data": {
      "text/plain": [
       "150"
      ]
     },
     "execution_count": 11,
     "metadata": {},
     "output_type": "execute_result"
    }
   ],
   "source": [
    "len(iris.target)"
   ]
  },
  {
   "cell_type": "markdown",
   "metadata": {},
   "source": [
    "__Q:__ _Think about what are all these values good for and why are they different sizes?_\n",
    "\n",
    "> __Tip:__ you can use the slice notation `[a:b]` to see slices of the values in a list"
   ]
  },
  {
   "cell_type": "code",
   "execution_count": 12,
   "metadata": {},
   "outputs": [
    {
     "data": {
      "text/plain": [
       "array([[ 5.1,  3.5,  1.4,  0.2],\n",
       "       [ 4.9,  3. ,  1.4,  0.2],\n",
       "       [ 4.7,  3.2,  1.3,  0.2],\n",
       "       [ 4.6,  3.1,  1.5,  0.2],\n",
       "       [ 5. ,  3.6,  1.4,  0.2]])"
      ]
     },
     "execution_count": 12,
     "metadata": {},
     "output_type": "execute_result"
    }
   ],
   "source": [
    "iris.data[0:5]"
   ]
  },
  {
   "cell_type": "markdown",
   "metadata": {},
   "source": [
    "### numpy\n",
    "One of the data types commonly used is numpy."
   ]
  },
  {
   "cell_type": "code",
   "execution_count": 13,
   "metadata": {},
   "outputs": [
    {
     "data": {
      "text/plain": [
       "numpy.ndarray"
      ]
     },
     "execution_count": 13,
     "metadata": {},
     "output_type": "execute_result"
    }
   ],
   "source": [
    "type(iris.data)"
   ]
  },
  {
   "cell_type": "markdown",
   "metadata": {},
   "source": [
    "As we can see above the `iris.data` attribute is of type `numpy.ndarray`, which offers many benefits over simple lists available in python, and they are used quite frequently\n",
    "\n",
    "A good place to learn about _numpy_ is https://docs.scipy.org/doc/numpy-1.13.0/user/quickstart.html"
   ]
  },
  {
   "cell_type": "markdown",
   "metadata": {},
   "source": [
    "# <a id=\"observation_features\"></a>Observations and Features\n",
    "\n",
    "Now that we have examined our dataset a little bit, let's dig into some terminology\n",
    "\n",
    "- __Observations__ are the individual data samples, or records\n",
    "- __Features__ are the each of the attributes in the data that are specifically selected, perhaps from a large set of possible attributes that are important to our analysis and modeling\n",
    "\n",
    "So in other words, if you imagine your data as a table, the rows in the table are the _observations_, while the columns are the _features_.\n",
    "\n",
    "## Observations and Features in Iris data set\n",
    "How do we determine what the _iris_ data set looks like?\n",
    "\n",
    "Recall from examining the iris dataset (i.e. `iris`) that `iris.feature_names` has a length of _4_, and `irsi.data` has a length of 150\n",
    "\n",
    "This tells us that we have 150 __observations__ and 4 __features__\n",
    "\n",
    "You might ask how can we infer this from the data itself? We could use the `shape` attribute of the `iris.data` attribute"
   ]
  },
  {
   "cell_type": "code",
   "execution_count": 14,
   "metadata": {},
   "outputs": [
    {
     "data": {
      "text/plain": [
       "(150, 4)"
      ]
     },
     "execution_count": 14,
     "metadata": {},
     "output_type": "execute_result"
    }
   ],
   "source": [
    "iris.data.shape"
   ]
  },
  {
   "cell_type": "markdown",
   "metadata": {},
   "source": [
    "So this tells us that we have 150 rows (observations) with 4 columns (features) per row\n",
    "\n",
    "> __Note:__ the fact that we have 4 features may not mean that all of them are always important, you might have data that has 10 features, and during your analysis and modeling, you would use certain combinations of features to better gain insight\n",
    "\n",
    "## Labeled training data\n",
    "When talking about a categorization problem in the context of _supervised learning_, we need to have _labeled data_\n",
    "\n",
    "In this `iris` data set the labeled data is available in the _target_ attribute You can think of each row of the data in the `iris.target` attribute as the response to the categorization question of each observation in the `iris.data`. Put differently, the correct response to the question of _which category does `iris.data[0]` belong to?_ is `iris.target[0]`\n",
    "\n",
    "> __Q:__ _From the above explanation, and knowing the shape of the input (i.e. `iris.data`) that we saw earlier, what would you expect the shape of the `iris.target` to be?_"
   ]
  },
  {
   "cell_type": "code",
   "execution_count": 15,
   "metadata": {},
   "outputs": [
    {
     "data": {
      "text/plain": [
       "(150,)"
      ]
     },
     "execution_count": 15,
     "metadata": {},
     "output_type": "execute_result"
    }
   ],
   "source": [
    "iris.target.shape"
   ]
  },
  {
   "cell_type": "markdown",
   "metadata": {},
   "source": [
    "You would expect that the number of observations in the `iris.data` to match the number of rows of data in the `iris.target` attribute.\n",
    "\n",
    "### Iris target - Numeric\n",
    "You can also notice that all the values in `iris.target` attribute are numeric. This is because all the analysis and modeling is based on mathematical calculations and the results have to be numeric. However to make things more meaningful for representation, the `iris.target_name` has the textual representation of the numbers (e.g. 0, 1, 2 in  this case)\n"
   ]
  },
  {
   "cell_type": "code",
   "execution_count": 16,
   "metadata": {},
   "outputs": [
    {
     "name": "stdout",
     "output_type": "stream",
     "text": [
      "['setosa', 'setosa', 'setosa', 'setosa', 'setosa', 'setosa', 'setosa', 'setosa', 'setosa', 'setosa', 'setosa', 'setosa', 'setosa', 'setosa', 'setosa', 'setosa', 'setosa', 'setosa', 'setosa', 'setosa', 'setosa', 'setosa', 'setosa', 'setosa', 'setosa', 'setosa', 'setosa', 'setosa', 'setosa', 'setosa', 'setosa', 'setosa', 'setosa', 'setosa', 'setosa', 'setosa', 'setosa', 'setosa', 'setosa', 'setosa', 'setosa', 'setosa', 'setosa', 'setosa', 'setosa', 'setosa', 'setosa', 'setosa', 'setosa', 'setosa', 'versicolor', 'versicolor', 'versicolor', 'versicolor', 'versicolor', 'versicolor', 'versicolor', 'versicolor', 'versicolor', 'versicolor', 'versicolor', 'versicolor', 'versicolor', 'versicolor', 'versicolor', 'versicolor', 'versicolor', 'versicolor', 'versicolor', 'versicolor', 'versicolor', 'versicolor', 'versicolor', 'versicolor', 'versicolor', 'versicolor', 'versicolor', 'versicolor', 'versicolor', 'versicolor', 'versicolor', 'versicolor', 'versicolor', 'versicolor', 'versicolor', 'versicolor', 'versicolor', 'versicolor', 'versicolor', 'versicolor', 'versicolor', 'versicolor', 'versicolor', 'versicolor', 'versicolor', 'versicolor', 'versicolor', 'versicolor', 'versicolor', 'versicolor', 'virginica', 'virginica', 'virginica', 'virginica', 'virginica', 'virginica', 'virginica', 'virginica', 'virginica', 'virginica', 'virginica', 'virginica', 'virginica', 'virginica', 'virginica', 'virginica', 'virginica', 'virginica', 'virginica', 'virginica', 'virginica', 'virginica', 'virginica', 'virginica', 'virginica', 'virginica', 'virginica', 'virginica', 'virginica', 'virginica', 'virginica', 'virginica', 'virginica', 'virginica', 'virginica', 'virginica', 'virginica', 'virginica', 'virginica', 'virginica', 'virginica', 'virginica', 'virginica', 'virginica', 'virginica', 'virginica', 'virginica', 'virginica', 'virginica', 'virginica']\n"
     ]
    }
   ],
   "source": [
    "print([iris.target_names[i] for i in iris.target])"
   ]
  },
  {
   "cell_type": "markdown",
   "metadata": {
    "collapsed": true
   },
   "source": [
    "# <a id=\"modeling\"></a>Modeling\n",
    "Now that we know what our data looks like, let's use scikit-learn to train a model and make predictions.\n",
    "\n",
    "The nice thing about scikit-learn is that it follows a simple set of steps in a consistent fashion across any of the available models. This makes learning somewhat easier, and you can use the learning from one library and get started on other libraries much faster.\n",
    "\n",
    "__First some conventions__\n",
    "- Upper case is used to represent a list of lists\n",
    "- Lower case is for simple lists (e.g. vector)\n",
    "\n",
    "Let's use X to signify the input and y the response.\n",
    "\n",
    "> __Q:__ _What do you think the X and y should be for our iris example_"
   ]
  },
  {
   "cell_type": "code",
   "execution_count": 17,
   "metadata": {
    "collapsed": true
   },
   "outputs": [],
   "source": [
    "X = iris.data\n",
    "y = iris.target"
   ]
  },
  {
   "cell_type": "markdown",
   "metadata": {},
   "source": [
    "Now let's use a model, train it, and try a simple prediction. We are doing this just so that we learn the pattern.\n",
    "\n",
    "For this example we will use the __K-Nearest Neighbors__ classifier algorithm, so let's first import it"
   ]
  },
  {
   "cell_type": "code",
   "execution_count": 18,
   "metadata": {
    "collapsed": true
   },
   "outputs": [],
   "source": [
    "from sklearn.neighbors import KNeighborsClassifier"
   ]
  },
  {
   "cell_type": "markdown",
   "metadata": {},
   "source": [
    "There are quite a few arguments available when trying to instantiate this class, but luckily scikit-learn has some sensible defaults to help you get started faster\n",
    "\n",
    "In this case we will use `n_neighbors=1` rather than the default value which is 5\n",
    "\n",
    "> __Q:__ *How do we know the default is 5?* (_hint:_ content assist)\n",
    "\n",
    "By the way, these tuning parameters are sometimes also referred to as __hyper parameters__, and they make a considerable impact on the model's behavior and prediction accuracy"
   ]
  },
  {
   "cell_type": "code",
   "execution_count": 19,
   "metadata": {
    "collapsed": true
   },
   "outputs": [],
   "source": [
    "knn = KNeighborsClassifier(n_neighbors=1)"
   ]
  },
  {
   "cell_type": "markdown",
   "metadata": {},
   "source": [
    "so now that we have an instance of this classifier, let's use it to train the model"
   ]
  },
  {
   "cell_type": "code",
   "execution_count": 20,
   "metadata": {},
   "outputs": [
    {
     "data": {
      "text/plain": [
       "KNeighborsClassifier(algorithm='auto', leaf_size=30, metric='minkowski',\n",
       "           metric_params=None, n_jobs=1, n_neighbors=1, p=2,\n",
       "           weights='uniform')"
      ]
     },
     "execution_count": 20,
     "metadata": {},
     "output_type": "execute_result"
    }
   ],
   "source": [
    "knn.fit(X, y)"
   ]
  },
  {
   "cell_type": "markdown",
   "metadata": {},
   "source": [
    "our model instance is trained with all of the iris dataset\n",
    "\n",
    "Let's try doing a prediction"
   ]
  },
  {
   "cell_type": "code",
   "execution_count": 21,
   "metadata": {},
   "outputs": [
    {
     "name": "stdout",
     "output_type": "stream",
     "text": [
      "(array([ 5.4,  3.9,  1.7,  0.4]), 0)\n",
      "(array([ 6.3,  3.3,  6. ,  2.5]), 2)\n"
     ]
    }
   ],
   "source": [
    "print(iris.data[5], iris.target[5])\n",
    "print(iris.data[100], iris.target[100])"
   ]
  },
  {
   "cell_type": "code",
   "execution_count": 22,
   "metadata": {},
   "outputs": [
    {
     "data": {
      "text/plain": [
       "array([0])"
      ]
     },
     "execution_count": 22,
     "metadata": {},
     "output_type": "execute_result"
    }
   ],
   "source": [
    "X1 = [[5.4,  3.9,  1.7,  0.4]]\n",
    "knn.predict(X1)"
   ]
  },
  {
   "cell_type": "markdown",
   "metadata": {},
   "source": [
    "> __Q:__ *why does the X1 test data above have two brackets?*\n",
    "  _hint:_ remember the shape of our input data\n",
    "\n",
    "Let's try another test data"
   ]
  },
  {
   "cell_type": "code",
   "execution_count": 23,
   "metadata": {},
   "outputs": [
    {
     "data": {
      "text/plain": [
       "array([0, 2])"
      ]
     },
     "execution_count": 23,
     "metadata": {},
     "output_type": "execute_result"
    }
   ],
   "source": [
    "X2 = [[5.4,  3.9,  1.7,  0.4], [6.3,  3.3,  6. ,  2.5]]\n",
    "knn.predict(X2)"
   ]
  },
  {
   "cell_type": "markdown",
   "metadata": {},
   "source": [
    "Let's repeat the same steps with a different parameter"
   ]
  },
  {
   "cell_type": "code",
   "execution_count": 24,
   "metadata": {},
   "outputs": [
    {
     "data": {
      "text/plain": [
       "array([0])"
      ]
     },
     "execution_count": 24,
     "metadata": {},
     "output_type": "execute_result"
    }
   ],
   "source": [
    "knn = KNeighborsClassifier(n_neighbors=5)\n",
    "knn.fit(X, y)\n",
    "knn.predict(X1)"
   ]
  },
  {
   "cell_type": "code",
   "execution_count": 25,
   "metadata": {},
   "outputs": [
    {
     "data": {
      "text/plain": [
       "array([0, 2])"
      ]
     },
     "execution_count": 25,
     "metadata": {},
     "output_type": "execute_result"
    }
   ],
   "source": [
    "knn.predict(X2)"
   ]
  },
  {
   "cell_type": "markdown",
   "metadata": {},
   "source": [
    "What if we decided to use a different model?\n",
    "\n",
    "Let's use a __Logistic Regression__ model"
   ]
  },
  {
   "cell_type": "code",
   "execution_count": 26,
   "metadata": {},
   "outputs": [
    {
     "data": {
      "text/plain": [
       "array([0, 2])"
      ]
     },
     "execution_count": 26,
     "metadata": {},
     "output_type": "execute_result"
    }
   ],
   "source": [
    "from sklearn.linear_model import LogisticRegression\n",
    "logreg = LogisticRegression()\n",
    "logreg.fit(X, y)\n",
    "logreg.predict(X2)"
   ]
  },
  {
   "cell_type": "markdown",
   "metadata": {},
   "source": [
    "> __Note:__ If we had an accuracy of 100% it doesn't mean that our model is perfect, it most likely means we have __overfit__ our model, and it will do a great job of predicting values it has already been given, but will not do well on unseen data"
   ]
  },
  {
   "cell_type": "markdown",
   "metadata": {},
   "source": [
    "# <a id=\"train_test\"></a>Train/Test\n",
    "\n",
    "So far we have explored how to work with Scikit-learn and a couple of its modeling algorithms.\n",
    "\n",
    "Let's look at a better way of training our model. Training a model requires large amounts of data, however validating that the model worked also needs a reasonable set. The general practice is to split the labeled data into a _Training_ and a _Test_ set. You would use the training set to train the model, and then use the test set (which is distinct and separate from the training set) to see how well the trained model is doing.\n",
    "\n",
    "One simple way to achieve this is to take the entire data set, and set aside 30% of the entries with a random selection. So the model is trained with 70% of the data, and then its tested with the remaining 30% test set, which the model hasn't seen before.\n",
    "\n",
    "It might be easy to write a couple of lines of code to do this, but you would be doing this every time. Scikit-learn provides a simple way to randomly split your data set into training and test set.\n",
    "\n",
    "Let's use this approach and perform a training and then test the model"
   ]
  },
  {
   "cell_type": "code",
   "execution_count": 27,
   "metadata": {
    "collapsed": true
   },
   "outputs": [],
   "source": [
    "from sklearn.model_selection import train_test_split\n",
    "X_train, X_test, y_train, y_test = train_test_split(X, y, test_size=0.35, random_state=2)"
   ]
  },
  {
   "cell_type": "markdown",
   "metadata": {},
   "source": [
    "In the above snippet, we imported `train_test_split`, and used it to split the iris data set into two pairs of training and test set data. We will use the `X_train` training set with its corresponding `y_train` response, and when we are ready to test our model (after training), we will use the `X_test` test data set with its corresponding response data `y_test`\n",
    "\n",
    "Let's briefly explore the shapes of the data we just split"
   ]
  },
  {
   "cell_type": "code",
   "execution_count": 28,
   "metadata": {},
   "outputs": [
    {
     "name": "stdout",
     "output_type": "stream",
     "text": [
      "(97, 4)\n",
      "(97,)\n",
      "(53, 4)\n",
      "(53,)\n"
     ]
    }
   ],
   "source": [
    "print(X_train.shape)\n",
    "print(y_train.shape)\n",
    "print(X_test.shape)\n",
    "print(y_test.shape)"
   ]
  },
  {
   "cell_type": "markdown",
   "metadata": {},
   "source": [
    "> __Note:__ Why 97 and 53? 150 * .35 = 52.5 or rounded to 53\n",
    "\n",
    "Now let's use the data and perform the training and testing activities"
   ]
  },
  {
   "cell_type": "code",
   "execution_count": 29,
   "metadata": {},
   "outputs": [
    {
     "data": {
      "text/plain": [
       "LogisticRegression(C=1.0, class_weight=None, dual=False, fit_intercept=True,\n",
       "          intercept_scaling=1, max_iter=100, multi_class='ovr', n_jobs=1,\n",
       "          penalty='l2', random_state=None, solver='liblinear', tol=0.0001,\n",
       "          verbose=0, warm_start=False)"
      ]
     },
     "execution_count": 29,
     "metadata": {},
     "output_type": "execute_result"
    }
   ],
   "source": [
    "logreg = LogisticRegression()\n",
    "logreg.fit(X_train, y_train)"
   ]
  },
  {
   "cell_type": "markdown",
   "metadata": {},
   "source": [
    "Now that we have trained the model with the training data, let's see the prediction results from the test data"
   ]
  },
  {
   "cell_type": "code",
   "execution_count": 30,
   "metadata": {
    "collapsed": true
   },
   "outputs": [],
   "source": [
    "y_pred = logreg.predict(X_test)"
   ]
  },
  {
   "cell_type": "markdown",
   "metadata": {},
   "source": [
    "So the above predictions are generated by the model, and we will have to compare it with the correct values from our data set as stored in the `y_test` data"
   ]
  },
  {
   "cell_type": "code",
   "execution_count": 31,
   "metadata": {},
   "outputs": [
    {
     "name": "stdout",
     "output_type": "stream",
     "text": [
      "0.943396226415\n"
     ]
    }
   ],
   "source": [
    "from sklearn import metrics\n",
    "print(metrics.accuracy_score(y_test, y_pred))"
   ]
  },
  {
   "cell_type": "markdown",
   "metadata": {},
   "source": [
    "As you can see, we are achieving a 94% accuracy\n",
    "\n",
    "Let's try this with KNN (like we did earlier) with a K=5 values"
   ]
  },
  {
   "cell_type": "code",
   "execution_count": 32,
   "metadata": {
    "scrolled": true
   },
   "outputs": [
    {
     "name": "stdout",
     "output_type": "stream",
     "text": [
      "0.981132075472\n"
     ]
    }
   ],
   "source": [
    "knn = KNeighborsClassifier(n_neighbors=5)\n",
    "knn.fit(X_train, y_train)\n",
    "y_pred = knn.predict(X_test)\n",
    "print(metrics.accuracy_score(y_test, y_pred))"
   ]
  },
  {
   "cell_type": "markdown",
   "metadata": {},
   "source": [
    "In this case we achieved an accuracy of 98%\n",
    "\n",
    "> __Q:__ *How can we determine the most suitable K value*\n",
    "\n",
    "A simple way that comes to mind is to repeat the above steps in a loop and change the K value, and then check the accuracy"
   ]
  },
  {
   "cell_type": "code",
   "execution_count": 33,
   "metadata": {},
   "outputs": [
    {
     "name": "stdout",
     "output_type": "stream",
     "text": [
      "K=1\t=> 0.981132\n",
      "K=2\t=> 0.962264\n",
      "K=3\t=> 0.981132\n",
      "K=4\t=> 0.981132\n",
      "K=5\t=> 0.981132\n",
      "K=6\t=> 0.981132\n",
      "K=7\t=> 0.962264\n",
      "K=8\t=> 0.943396\n",
      "K=9\t=> 0.962264\n",
      "K=10\t=> 0.962264\n",
      "K=11\t=> 0.962264\n",
      "K=12\t=> 0.981132\n",
      "K=13\t=> 0.962264\n",
      "K=14\t=> 0.962264\n",
      "K=15\t=> 0.962264\n",
      "K=16\t=> 0.962264\n",
      "K=17\t=> 0.962264\n",
      "K=18\t=> 0.962264\n",
      "K=19\t=> 0.962264\n",
      "K=20\t=> 0.962264\n",
      "K=21\t=> 0.962264\n",
      "K=22\t=> 0.943396\n",
      "K=23\t=> 0.962264\n",
      "K=24\t=> 0.943396\n",
      "K=25\t=> 0.943396\n"
     ]
    }
   ],
   "source": [
    "for k in range(1, 26):\n",
    "    knn = KNeighborsClassifier(n_neighbors=k)\n",
    "    knn.fit(X_train, y_train)\n",
    "    y_pred = knn.predict(X_test)\n",
    "    print(\"K=%d\\t=> %f\" %(k, metrics.accuracy_score(y_test, y_pred)))"
   ]
  },
  {
   "cell_type": "markdown",
   "metadata": {},
   "source": [
    "From the values above we can see that __K=12__ has includes the best results while including larger number of neighbors. What we need to do next is to use this value of K, and train our model with the __entire training data__ that we have (i.e. `X` and _not_ just `X_train`), and then start using it with unseen data and gauge its performance."
   ]
  },
  {
   "cell_type": "code",
   "execution_count": 34,
   "metadata": {},
   "outputs": [
    {
     "data": {
      "text/plain": [
       "array([0])"
      ]
     },
     "execution_count": 34,
     "metadata": {},
     "output_type": "execute_result"
    }
   ],
   "source": [
    "knn = KNeighborsClassifier(n_neighbors=12)\n",
    "knn.fit(X, y)\n",
    "knn.predict(X1)"
   ]
  },
  {
   "cell_type": "markdown",
   "metadata": {
    "collapsed": true
   },
   "source": [
    "# <a id=\"choices\"></a>Model and Parameter Choices\n",
    "So far we looked at two ways of training our data\n",
    "- Using the entire data set for training and then testing with the same data\n",
    "- Splitting the data into a training set and a testing set\n",
    "\n",
    "In the first case we have no way of knowing how well each model and its various parameters would do outside of our own known data set. So this is not effective\n",
    "However in the second case, we at least get some idea how well the model would be doing because we have a testing set, which would help us in model and parameter decision making.\n",
    "\n",
    "The second approach is a step in the right direction. Imagine if we had a way to generate multiple splits of the data set into training and testing data sets to give us the advantage of training the data with a variety of record mixes; and averaged out the accuracy of the model across these variations. It also enables a more efficient use of the data set. This is essentially what __K Fold Cross Validation__ offers!\n",
    "\n",
    "> Note: this is a more time consuming method compared to train/test split, because you would be running the training sessions K times compared to single time with train/test split.\n",
    "\n",
    "## Cross Validation\n",
    "The following image shows how this works\n",
    "![cross validation](images/CrossValidation.png)\n",
    "\n",
    "In Scikit-learn this is offered by the `cross_val_score` class. In this example we will use `K=5` for the _KNN_ model and perform a 10-fold cross validation"
   ]
  },
  {
   "cell_type": "code",
   "execution_count": 35,
   "metadata": {},
   "outputs": [
    {
     "name": "stdout",
     "output_type": "stream",
     "text": [
      "[ 1.          0.93333333  1.          1.          0.86666667  0.93333333\n",
      "  0.93333333  1.          1.          1.        ]\n"
     ]
    }
   ],
   "source": [
    "from sklearn.model_selection import cross_val_score\n",
    "knn = KNeighborsClassifier(n_neighbors=5)\n",
    "scores = cross_val_score(knn, X, y, cv=10, scoring='accuracy')\n",
    "print(scores)"
   ]
  },
  {
   "cell_type": "markdown",
   "metadata": {},
   "source": [
    "Now we can use the average score as an indicator of how well our model will do when run on unseen data"
   ]
  },
  {
   "cell_type": "code",
   "execution_count": 36,
   "metadata": {},
   "outputs": [
    {
     "name": "stdout",
     "output_type": "stream",
     "text": [
      "0.966666666667\n"
     ]
    }
   ],
   "source": [
    "print(scores.mean())"
   ]
  },
  {
   "cell_type": "markdown",
   "metadata": {},
   "source": [
    "Now that we have a more effective (albeit slower) way of using our data, we can also find the best `K` value for our _KNN_ model"
   ]
  },
  {
   "cell_type": "code",
   "execution_count": 37,
   "metadata": {},
   "outputs": [
    {
     "name": "stdout",
     "output_type": "stream",
     "text": [
      "K=1\t=> 0.960000\n",
      "K=2\t=> 0.953333\n",
      "K=3\t=> 0.966667\n",
      "K=4\t=> 0.966667\n",
      "K=5\t=> 0.966667\n",
      "K=6\t=> 0.966667\n",
      "K=7\t=> 0.966667\n",
      "K=8\t=> 0.966667\n",
      "K=9\t=> 0.973333\n",
      "K=10\t=> 0.966667\n",
      "K=11\t=> 0.966667\n",
      "K=12\t=> 0.973333\n",
      "K=13\t=> 0.980000\n",
      "K=14\t=> 0.973333\n",
      "K=15\t=> 0.973333\n",
      "K=16\t=> 0.973333\n",
      "K=17\t=> 0.973333\n",
      "K=18\t=> 0.980000\n",
      "K=19\t=> 0.973333\n",
      "K=20\t=> 0.980000\n",
      "K=21\t=> 0.966667\n",
      "K=22\t=> 0.966667\n",
      "K=23\t=> 0.973333\n",
      "K=24\t=> 0.960000\n",
      "K=25\t=> 0.966667\n",
      "K=26\t=> 0.960000\n",
      "K=27\t=> 0.966667\n",
      "K=28\t=> 0.953333\n",
      "K=29\t=> 0.953333\n",
      "K=30\t=> 0.953333\n"
     ]
    }
   ],
   "source": [
    "kRange = range(1, 31)\n",
    "scoresByK = []\n",
    "for k in kRange:\n",
    "    knn = KNeighborsClassifier(n_neighbors=k)\n",
    "    scores = cross_val_score(knn, X, y, cv=10, scoring='accuracy')\n",
    "    scoresByK.append((scores.mean()))\n",
    "    print(\"K=%d\\t=> %f\" %(k, scores.mean()))"
   ]
  },
  {
   "cell_type": "markdown",
   "metadata": {},
   "source": [
    "Let's plot these values to see a visual representation of this data\n",
    "\n",
    "The X-axis represents the `K` values for _KNN_\n",
    "\n",
    "The Y-axis represents the _Cross Validation Accuracy_"
   ]
  },
  {
   "cell_type": "code",
   "execution_count": 38,
   "metadata": {},
   "outputs": [
    {
     "data": {
      "text/plain": [
       "<matplotlib.text.Text at 0x11b78d9d0>"
      ]
     },
     "execution_count": 38,
     "metadata": {},
     "output_type": "execute_result"
    },
    {
     "data": {
      "image/png": "[encoded data removed]",
      "text/plain": [
       "<matplotlib.figure.Figure at 0x11b6deb90>"
      ]
     },
     "metadata": {},
     "output_type": "display_data"
    }
   ],
   "source": [
    "import matplotlib.pyplot as plt\n",
    "%matplotlib inline\n",
    "\n",
    "plt.plot(kRange, scoresByK)\n",
    "plt.xlabel('K for KNN')\n",
    "plt.ylabel('Cross-Validated Accuracy')"
   ]
  },
  {
   "cell_type": "markdown",
   "metadata": {},
   "source": [
    "Let's compare the _KNN_ and _Logistic Regression_ model results using _cross validation_ and find the best between the two"
   ]
  },
  {
   "cell_type": "code",
   "execution_count": 39,
   "metadata": {},
   "outputs": [
    {
     "name": "stdout",
     "output_type": "stream",
     "text": [
      "KNN accuracy\t= 0.980000\n",
      "LogReg accuracy\t= 0.953333\n"
     ]
    }
   ],
   "source": [
    "knn = KNeighborsClassifier(n_neighbors=20)\n",
    "print(\"KNN accuracy\\t= %f\" %cross_val_score(knn, X, y, cv=10, scoring='accuracy').mean())\n",
    "\n",
    "logreg = LogisticRegression()\n",
    "print(\"LogReg accuracy\\t= %f\" %cross_val_score(logreg, X, y, cv=10, scoring='accuracy').mean())"
   ]
  },
  {
   "cell_type": "markdown",
   "metadata": {},
   "source": [
    "# <a id=\"validation\"></a>Validation set - Hold-out set\n",
    "You can set some data aside in the beginning to use at the end of train/test or cross-validation training. This data is truly out of sample and can be a good indicator of how well the model is doing."
   ]
  },
  {
   "cell_type": "markdown",
   "metadata": {},
   "source": [
    "## <a id=\"selection\"></a>Hyperparameter Selection\n",
    "So far we compared the performance of single models, or explored changing a single hyperparameter value. It appears that to get the best combination of _hyperparameters_ for, any model, would mean writing some code. The code would iterate over a permutation of different options. Let's say param_1 can be _1_ or _2_, and param_2 can be _a_ or _b_, then you would have to write code to test the model with these combinations of param_1 and param_2 respectively\n",
    "- _1 & a_\n",
    "- _1 & b_\n",
    "- _2 & a_\n",
    "- _2 & b_\n",
    "\n",
    "And imagine changing that code every time you need to add more parameters or change them!\n",
    "\n",
    "Scikit-learn offers a simple solution to this: __GridSearchCV__\n",
    "\n",
    "`GridSearchCV` simply allows you to define the parameters and their possible values and then apply them to a model in a single line"
   ]
  },
  {
   "cell_type": "code",
   "execution_count": 40,
   "metadata": {
    "collapsed": true
   },
   "outputs": [],
   "source": [
    "from sklearn.model_selection import GridSearchCV\n",
    "kRange = range(1, 30)\n",
    "param_grid = dict(n_neighbors=kRange)\n",
    "grid = GridSearchCV(knn, param_grid, cv=10, scoring='accuracy')\n",
    "grid.fit(X, y)\n",
    "gridMeanScores = grid.cv_results_[\"mean_test_score\"]"
   ]
  },
  {
   "cell_type": "code",
   "execution_count": 41,
   "metadata": {},
   "outputs": [
    {
     "data": {
      "text/plain": [
       "<matplotlib.text.Text at 0x11b78d0d0>"
      ]
     },
     "execution_count": 41,
     "metadata": {},
     "output_type": "execute_result"
    },
    {
     "data": {
      "image/png": "[encoded data removed]",
      "text/plain": [
       "<matplotlib.figure.Figure at 0x11b6dea50>"
      ]
     },
     "metadata": {},
     "output_type": "display_data"
    }
   ],
   "source": [
    "plt.plot(kRange, gridMeanScores)\n",
    "plt.xlabel('Value of K for KNN')\n",
    "plt.ylabel('Cross-Validated Accuracy')"
   ]
  },
  {
   "cell_type": "code",
   "execution_count": 42,
   "metadata": {},
   "outputs": [
    {
     "name": "stdout",
     "output_type": "stream",
     "text": [
      "Best Score =  0.98\n",
      "Best Params =  {'n_neighbors': 13}\n",
      "Best Estimator =  KNeighborsClassifier(algorithm='auto', leaf_size=30, metric='minkowski',\n",
      "           metric_params=None, n_jobs=1, n_neighbors=13, p=2,\n",
      "           weights='uniform')\n"
     ]
    }
   ],
   "source": [
    "print \"Best Score = \", grid.best_score_\n",
    "print \"Best Params = \", grid.best_params_\n",
    "print \"Best Estimator = \", grid.best_estimator_"
   ]
  },
  {
   "cell_type": "markdown",
   "metadata": {},
   "source": [
    "The above example used a single parameter, but the same technique can be used to add more options to the parameters. For example we could define `param_grid = dict(n_neighbors=kRange, weights=weightOptions)` where `weightOptions = ['uniform', 'distance']`. This would cause a larger set of tests where each `K` value is paired once with _uniform_ and the _distance_ for the _weights_ parameter.\n",
    "\n",
    "This method allows a simpler way of working with multiple permutation and combinations of parameter usage.\n",
    "\n",
    "As you can imagine, a larger number of variations could cause a huge performance concern. The __RandomizedSearchCV__ class offers some relief by randomly selecting combinations, and as you can imagine the tradeoff of faster computation is less accuracy."
   ]
  }
 ],
 "metadata": {
  "kernelspec": {
   "display_name": "Python 2",
   "language": "python",
   "name": "python2"
  },
  "language_info": {
   "codemirror_mode": {
    "name": "ipython",
    "version": 2
   },
   "file_extension": ".py",
   "mimetype": "text/x-python",
   "name": "python",
   "nbconvert_exporter": "python",
   "pygments_lexer": "ipython2",
   "version": "2.7.13"
  }
 },
 "nbformat": 4,
 "nbformat_minor": 2
}
